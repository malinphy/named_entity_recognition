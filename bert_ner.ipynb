{
  "nbformat": 4,
  "nbformat_minor": 0,
  "metadata": {
    "colab": {
      "provenance": [],
      "collapsed_sections": []
    },
    "kernelspec": {
      "display_name": "Python 3",
      "name": "python3"
    },
    "language_info": {
      "name": "python"
    },
    "gpuClass": "standard",
    "accelerator": "GPU"
  },
  "cells": [
    {
      "cell_type": "code",
      "source": [
        "from google.colab import drive\n",
        "drive.mount('/content/drive')"
      ],
      "metadata": {
        "colab": {
          "base_uri": "https://localhost:8080/"
        },
        "id": "lNjrY61U81Tk",
        "outputId": "8f6b843f-4acc-49d5-c04c-aa7602f866f0"
      },
      "execution_count": 1,
      "outputs": [
        {
          "output_type": "stream",
          "name": "stdout",
          "text": [
            "Drive already mounted at /content/drive; to attempt to forcibly remount, call drive.mount(\"/content/drive\", force_remount=True).\n"
          ]
        }
      ]
    },
    {
      "cell_type": "code",
      "metadata": {
        "id": "ynHf8Z7z5zV0"
      },
      "source": [
        "!pip install --quiet tensorflow-text\n",
        "!pip install --quiet tokenizers\n",
        "import numpy as np \n",
        "import pandas as pd \n",
        "import pickle\n",
        "import os \n",
        "import re\n",
        "import tensorflow as tf \n",
        "from tensorflow import keras \n",
        "from tensorflow.keras import Model,Input,layers\n",
        "from tensorflow.keras.preprocessing.text import Tokenizer\n",
        "from tensorflow.keras.preprocessing.sequence import pad_sequences\n",
        "from tensorflow.keras.layers import *\n",
        "\n",
        "import tensorflow_hub as hub \n",
        "import tokenizers\n",
        "from tokenizers import BertWordPieceTokenizer\n",
        "import tensorflow_text as text \n",
        "from tensorflow.keras.preprocessing.sequence import pad_sequences\n",
        "import platform\n",
        "import sklearn \n",
        "from sklearn.metrics import f1_score,classification_report,confusion_matrix\n",
        "# from data_loader import load_sentences,list_maker\n",
        "# from helper_functions import tag_encoder\n",
        "# from token_functions import token_aligner,encoder,tag_encoder_2,padder\n",
        "\n",
        "# from model import ner_model\n",
        "import matplotlib.pyplot as plt\n",
        "import seaborn as sns"
      ],
      "execution_count": 2,
      "outputs": []
    },
    {
      "cell_type": "code",
      "source": [
        "train_path = 'drive/MyDrive/Colab Notebooks/datasets/conn2003/train.txt'\n",
        "test_path = 'drive/MyDrive/Colab Notebooks/datasets/conn2003/test.txt'\n",
        "validation_path = 'drive/MyDrive/Colab Notebooks/datasets/conn2003/valid.txt'\n",
        "\n",
        "saving_path = './'\n",
        "\n",
        "input_len =128\n",
        "epochs = 10\n",
        "batch = 400"
      ],
      "metadata": {
        "id": "hGmwP3rVRMMa"
      },
      "execution_count": 3,
      "outputs": []
    },
    {
      "cell_type": "code",
      "source": [
        "encoder_url = 'https://tfhub.dev/tensorflow/bert_en_uncased_preprocess/3'\n",
        "bert_url = 'https://tfhub.dev/tensorflow/small_bert/bert_en_uncased_L-6_H-128_A-2/2'\n",
        "\n",
        "bert_layer = hub.KerasLayer(bert_url, trainable=True)\n",
        "vocab_file = bert_layer.resolved_object.vocab_file.asset_path.numpy().decode(\"utf-8\")\n",
        "tokenizer = BertWordPieceTokenizer(vocab=vocab_file, lowercase=False)\n"
      ],
      "metadata": {
        "colab": {
          "base_uri": "https://localhost:8080/"
        },
        "id": "H_kVyqm7-xQ-",
        "outputId": "f78a5961-8c72-4c28-8850-976c45f0f2ad"
      },
      "execution_count": 4,
      "outputs": [
        {
          "output_type": "stream",
          "name": "stderr",
          "text": [
            "WARNING:tensorflow:Please fix your imports. Module tensorflow.python.training.tracking.data_structures has been moved to tensorflow.python.trackable.data_structures. The old module will be deleted in version 2.11.\n"
          ]
        }
      ]
    },
    {
      "cell_type": "code",
      "source": [
        "def load_sentences(filepath):\n",
        "\n",
        "    final = []\n",
        "    sentences = []\n",
        "\n",
        "    with open(filepath, 'r') as f:\n",
        "        \n",
        "        for line in f.readlines():\n",
        "            \n",
        "            if (line == ('-DOCSTART- -X- -X- O\\n') or line == '\\n'):\n",
        "                if len(sentences) > 0:\n",
        "                    final.append(sentences)\n",
        "                    sentences = []\n",
        "            else:\n",
        "                l = line.split(' ')\n",
        "                sentences.append((l[0], l[3].strip('\\n')))\n",
        "    \n",
        "    return final\n",
        "\n",
        "def list_maker(data_set,col):\n",
        "    v2 = []\n",
        "\n",
        "    for i in data_set:\n",
        "        v1 = []\n",
        "\n",
        "        for j in i:\n",
        "            v1.append(j[col])\n",
        "        x = ' '.join(v1)\n",
        "        x = re.sub('  ',' ',x)\n",
        "        x = re.sub(r\"\\s+$\", \"\", x, flags=re.UNICODE)\n",
        "        x = re.sub(\"^\\s+|\\s+$\", \"\", x, flags=re.UNICODE)\n",
        "        v2.append(x)\n",
        "\n",
        "        # v2.append(' '.join(v1))\n",
        "\n",
        "    return v2\n",
        "\n",
        "def tag_encoder(tags,tags_2enc):\n",
        "    '''\n",
        "    encoding tags using tag corpus(enc_2tags)\n",
        "    '''\n",
        "\n",
        "    encoded_tags = []\n",
        "\n",
        "    for i in tags:\n",
        "        t1 = []\n",
        "\n",
        "        for j in i.split():\n",
        "\n",
        "            t1.append(tags_2enc[str(j)])\n",
        "        encoded_tags.append(t1)\n",
        "\n",
        "    return encoded_tags\n",
        "\n",
        "def tag_encoder_2(tags,tags_2enc):\n",
        "    '''\n",
        "    encoding tags using tag corpus(enc_2tags)\n",
        "    '''\n",
        "\n",
        "    encoded_tags = []\n",
        "\n",
        "    for i in tags:\n",
        "        t1 = []\n",
        "\n",
        "        for j in i:\n",
        "\n",
        "            t1.append(tags_2enc[str(j)])\n",
        "        encoded_tags.append(t1)\n",
        "\n",
        "    return encoded_tags\n",
        "\t\n",
        "class str_maker :\n",
        "\n",
        "  def __init__(self, data):\n",
        "    self.data = data \n",
        "\n",
        "  def splitter(self):\n",
        "    str_data = []\n",
        "    for i in self.data:\n",
        "      str_data.append(' '.join(i.split()))\n",
        "\n",
        "    return str_data\n",
        "\n",
        "def token_aligner(sentences_train,tags_train):\n",
        "    var2 = []\n",
        "    for j in range(len(sentences_train)):\n",
        "        encoded_sentence = tokenizer.encode(sentences_train[j])\n",
        "        tags = tags_train[j].split(' ')\n",
        "        counter = 0\n",
        "        var1 = []\n",
        "        for i in range(1, len(encoded_sentence.offsets)- 1):\n",
        "            x = encoded_sentence.offsets[i][0]\n",
        "            y = encoded_sentence.offsets[i-1][1]\n",
        "\n",
        "            if x!=y :\n",
        "                counter +=1\n",
        "                var1.append(tags[counter])\n",
        "            if x == y:\n",
        "                var1.append(tags[counter]) \n",
        "        var2.append(var1)\n",
        "    \n",
        "    return var2\n",
        "\n",
        "def encoder(x):\n",
        "    tokenizer = BertWordPieceTokenizer(vocab=vocab_file, lowercase=True)\n",
        "    ids = []\n",
        "    type_ids = []\n",
        "    attention_mask = []\n",
        "    ids_len = []\n",
        "    tokens= []\n",
        "    for i in range(len(x)):\n",
        "        var1 = tokenizer.encode(x[i])\n",
        "        ids.append(var1.ids)\n",
        "        type_ids.append(var1.type_ids)\n",
        "        attention_mask.append(var1.attention_mask)\n",
        "        tokens = var1.tokens\n",
        "        ids_len.append(len(var1.ids))\n",
        "    return ids, type_ids, attention_mask,tokens,ids_len\n",
        "\n",
        "def padder(x,pad_len):\n",
        "    padded_var = pad_sequences(\n",
        "    x,\n",
        "    maxlen=pad_len,\n",
        "    dtype='int32',\n",
        "    padding='post',\n",
        "    truncating='post',\n",
        "    value=0.0\n",
        "    )\n",
        "    return padded_var"
      ],
      "metadata": {
        "id": "DZUtmYLs-xyk"
      },
      "execution_count": 5,
      "outputs": []
    },
    {
      "cell_type": "code",
      "source": [
        "train_set  = load_sentences(train_path)\n",
        "test_set  = load_sentences(test_path)\n",
        "validation_set  = load_sentences(validation_path)\n",
        "\n",
        "print('train_set_length :',len(train_set))\n",
        "print('test_set_length :',len(test_set))\n",
        "print('validation_set_length :',len(validation_set))\n",
        "\n",
        "sentences_train = list_maker(train_set, 0)\n",
        "tags_train = list_maker(train_set, 1)\n",
        "\n",
        "sentences_test = list_maker(test_set, 0)\n",
        "tags_test = list_maker(test_set, 1)\n",
        "\n",
        "sentences_validation = list_maker(validation_set, 0)\n",
        "tags_validation = list_maker(validation_set, 1)\n",
        "\n",
        "j_tags = ' '.join(tags_train)\n",
        "unique_tags = np.unique(j_tags.split())\n",
        "\n",
        "num_tags = len(unique_tags) ### number of unique tags\n",
        "enc_2tags = {i:j for i,j in enumerate(unique_tags)}\n",
        "tags_2enc = {j:i for i,j in enumerate(unique_tags)}\n",
        "\n",
        "aligned_tags_train = token_aligner(sentences_train,tags_train)\n",
        "aligned_tags_val = token_aligner(sentences_validation,tags_validation)\n",
        "\n",
        "train_ids, train_type_ids, train_attention_mask,train_tokens,ids_len = encoder(sentences_train)\n",
        "encoded_tags_train = tag_encoder_2(aligned_tags_train,tags_2enc)\n",
        "\n",
        "val_ids, val_type_ids, val_attention_mask,validation_tokens,ids_len = encoder(sentences_validation)\n",
        "encoded_tags_val = tag_encoder_2(aligned_tags_val,tags_2enc)\n",
        "\n",
        "print('number of unique tags :', num_tags)\n",
        "print('unique tags:', unique_tags)"
      ],
      "metadata": {
        "colab": {
          "base_uri": "https://localhost:8080/"
        },
        "id": "NiHzvjf6-zdM",
        "outputId": "6b0f2f51-c657-47cb-ed75-35b64161bb6d"
      },
      "execution_count": 6,
      "outputs": [
        {
          "output_type": "stream",
          "name": "stdout",
          "text": [
            "train_set_length : 14041\n",
            "test_set_length : 3453\n",
            "validation_set_length : 3250\n",
            "number of unique tags : 9\n",
            "unique tags: ['B-LOC' 'B-MISC' 'B-ORG' 'B-PER' 'I-LOC' 'I-MISC' 'I-ORG' 'I-PER' 'O']\n"
          ]
        }
      ]
    },
    {
      "cell_type": "code",
      "source": [
        "a_file = open(saving_path+\"enc_2tags.pkl\", \"wb\")\n",
        "pickle.dump(enc_2tags, a_file)\n",
        "a_file.close()\n",
        "\n",
        "a_file = open(saving_path+\"tags_2enc.pkl\", \"wb\")\n",
        "pickle.dump(tags_2enc, a_file)\n",
        "a_file.close()\n",
        "\n",
        "\n",
        "a_file = open(saving_path+\"tags_2enc.pkl\", \"rb\")\n",
        "tags_2enc = pickle.load(a_file)\n",
        "print(tags_2enc)\n",
        "\n",
        "a_file = open(saving_path+\"enc_2tags.pkl\", \"rb\")\n",
        "enc_2tags = pickle.load(a_file)\n",
        "print(enc_2tags)"
      ],
      "metadata": {
        "id": "pFvw2vckrPfY",
        "colab": {
          "base_uri": "https://localhost:8080/"
        },
        "outputId": "34aae7a7-6a1d-4cfc-f851-ced5d291c426"
      },
      "execution_count": 7,
      "outputs": [
        {
          "output_type": "stream",
          "name": "stdout",
          "text": [
            "{'B-LOC': 0, 'B-MISC': 1, 'B-ORG': 2, 'B-PER': 3, 'I-LOC': 4, 'I-MISC': 5, 'I-ORG': 6, 'I-PER': 7, 'O': 8}\n",
            "{0: 'B-LOC', 1: 'B-MISC', 2: 'B-ORG', 3: 'B-PER', 4: 'I-LOC', 5: 'I-MISC', 6: 'I-ORG', 7: 'I-PER', 8: 'O'}\n"
          ]
        }
      ]
    },
    {
      "cell_type": "code",
      "source": [
        "pad_ids_train = padder(train_ids,input_len)\n",
        "pad_type_ids_train = padder(train_type_ids,input_len)\n",
        "pad_attention_mask_train = padder(train_attention_mask,input_len)\n",
        "pad_tags_train = padder(encoded_tags_train, input_len)\n",
        "\n",
        "\n",
        "pad_ids_val = padder(val_ids,input_len)\n",
        "pad_type_ids_val = padder(val_type_ids,input_len)\n",
        "pad_attention_mask_val = padder(val_attention_mask,input_len)\n",
        "pad_tags_val = padder(encoded_tags_val, input_len)\n",
        "\n",
        "preprocessor = hub.KerasLayer(encoder_url)\n",
        "encoder = hub.KerasLayer(bert_url,trainable=True)"
      ],
      "metadata": {
        "id": "gGkB7Seq-50N"
      },
      "execution_count": 8,
      "outputs": []
    },
    {
      "cell_type": "code",
      "source": [
        "print('number of unique tags:',num_tags)"
      ],
      "metadata": {
        "colab": {
          "base_uri": "https://localhost:8080/"
        },
        "id": "ypcUHcMcxfx3",
        "outputId": "7ce4fcee-e931-4d7d-e39e-92546e173eec"
      },
      "execution_count": 9,
      "outputs": [
        {
          "output_type": "stream",
          "name": "stdout",
          "text": [
            "number of unique tags: 9\n"
          ]
        }
      ]
    },
    {
      "cell_type": "code",
      "source": [
        "def ner_model(num_tags):\n",
        "    encoder_url = \"https://tfhub.dev/tensorflow/bert_en_uncased_preprocess/3\"\n",
        "    bert_url = \"https://tfhub.dev/tensorflow/small_bert/bert_en_uncased_L-6_H-128_A-2/2\"\n",
        "\n",
        "    encoder = hub.KerasLayer(bert_url,trainable=True)\n",
        "    text_input = tf.keras.layers.Input(shape=(), dtype=tf.string)\n",
        "    encoder_inputs = preprocessor(text_input)\n",
        "    outputs = encoder(encoder_inputs)\n",
        "    sequence_output = outputs[\"sequence_output\"]\n",
        "    sequence_output = Dropout(0.3)(sequence_output)\n",
        "    final_layer = Dense(num_tags, activation = 'softmax')(sequence_output)\n",
        "    return Model(inputs = text_input, outputs = final_layer)\n",
        "\n",
        "bert_ner_model = ner_model(num_tags)\n",
        "bert_ner_model.compile(\n",
        "    loss = tf.keras.losses.SparseCategoricalCrossentropy(),\n",
        "    optimizer = tf.keras.optimizers.Adam(),\n",
        "    metrics = ['accuracy']\n",
        ")\n",
        "\n",
        "# bert_ner_model.fit(\n",
        "#     np.array(sentences_train),\n",
        "#     pad_tags_train,\n",
        "#     epochs = epochs,\n",
        "#     # batch_size = batch,\n",
        "#     )\n",
        "\n",
        "# bert_ner_model.save_weights('drive/MyDrive/Colab Notebooks/trained_models/bert_ner_model/model_weights/bert_ner_weights.h5')\n",
        "bert_ner_model.load_weights('drive/MyDrive/Colab Notebooks/trained_models/bert_ner_model/model_weights/bert_ner_weights.h5')\n",
        "p = bert_ner_model.predict(np.array(sentences_validation))"
      ],
      "metadata": {
        "colab": {
          "base_uri": "https://localhost:8080/"
        },
        "id": "rp3dwzXs-7n7",
        "outputId": "735c1526-cafa-43a4-af2a-ac90ab477553"
      },
      "execution_count": 10,
      "outputs": [
        {
          "output_type": "stream",
          "name": "stdout",
          "text": [
            "102/102 [==============================] - 8s 70ms/step\n"
          ]
        }
      ]
    },
    {
      "cell_type": "code",
      "source": [
        "v2= []\n",
        "for i in range(len(encoded_tags_val)):\n",
        "    word_vector_pred = p[i]\n",
        "    z = word_vector_pred[0:len(encoded_tags_val[i])]\n",
        "    v1 = []\n",
        "    for j in z:\n",
        "        v1.append(np.argmax(j))\n",
        "    v2.append(v1)"
      ],
      "metadata": {
        "id": "do3ajRB7-9Sc"
      },
      "execution_count": 11,
      "outputs": []
    },
    {
      "cell_type": "code",
      "source": [
        "tags_validation_logits = [enc_2tags[i] for i in np.concatenate(encoded_tags_val)]\n",
        "tags_validation_pred = [enc_2tags[i] for i in np.concatenate(v2)]"
      ],
      "metadata": {
        "id": "CKu9vvz7Q7An"
      },
      "execution_count": 12,
      "outputs": []
    },
    {
      "cell_type": "code",
      "source": [
        "print('F1 score:',f1_score((np.concatenate(encoded_tags_val)), (np.concatenate(v2)), average='micro'))\n",
        "\n",
        "conf_mat=confusion_matrix(tags_validation_logits,tags_validation_pred,\n",
        "                            labels=['B-LOC', 'B-MISC', 'B-ORG', 'B-PER', 'I-LOC', 'I-MISC', 'I-ORG', 'I-PER', 'O'])\n",
        "print(conf_mat)"
      ],
      "metadata": {
        "colab": {
          "base_uri": "https://localhost:8080/"
        },
        "id": "ELmaq5ghRQsq",
        "outputId": "762828d5-2ef4-40fa-a416-f967a55642bf"
      },
      "execution_count": 13,
      "outputs": [
        {
          "output_type": "stream",
          "name": "stdout",
          "text": [
            "F1 score: 0.917871611886156\n",
            "[[ 1612    41    26    25    18     0     6     2   501]\n",
            " [   22   655    23     9     4     4     1     0   331]\n",
            " [   49    42   919    31     2     2    31     4   350]\n",
            " [   63    15    77  1266     1     0     2   124   425]\n",
            " [    9     0     0     1   182     1     4     4    63]\n",
            " [    3    47     1     3     6   149     2     5   151]\n",
            " [   11     5    40     4     9     8   396     9   312]\n",
            " [   47     0     0   114    11     0    22   824   340]\n",
            " [  525   132    93   204    33    38   152   205 48145]]\n"
          ]
        }
      ]
    },
    {
      "cell_type": "code",
      "source": [
        "\n",
        "fig, ax = plt.subplots(figsize=(13,7)) \n",
        "labels=['B-LOC', 'B-MISC', 'B-ORG', 'B-PER', 'I-LOC', 'I-MISC', 'I-ORG', 'I-PER', 'O']\n",
        "sns.heatmap(conf_mat, annot=True,fmt='.5g',vmin=0, vmax=1500,\n",
        "                            xticklabels=labels, yticklabels=labels);"
      ],
      "metadata": {
        "colab": {
          "base_uri": "https://localhost:8080/",
          "height": 428
        },
        "id": "6HWS_fqlCkV0",
        "outputId": "9a519137-4058-4d0d-85ba-cbc5f49273c1"
      },
      "execution_count": 14,
      "outputs": [
        {
          "output_type": "display_data",
          "data": {
            "text/plain": [
              "<Figure size 936x504 with 2 Axes>"
            ],
            "image/png": "[encoded data removed]"
          },
          "metadata": {
            "needs_background": "light"
          }
        }
      ]
    },
    {
      "cell_type": "code",
      "source": [
        "print(classification_report(np.concatenate(encoded_tags_val), np.concatenate(v2),\n",
        "                            target_names = ['B-LOC', 'B-MISC', 'B-ORG', 'B-PER', 'I-LOC', 'I-MISC', 'I-ORG', 'I-PER', 'O']\n",
        "                            ))"
      ],
      "metadata": {
        "colab": {
          "base_uri": "https://localhost:8080/"
        },
        "id": "LhHYo-VBOck6",
        "outputId": "e8b52857-29d1-4a54-8444-83288153d31f"
      },
      "execution_count": 15,
      "outputs": [
        {
          "output_type": "stream",
          "name": "stdout",
          "text": [
            "              precision    recall  f1-score   support\n",
            "\n",
            "       B-LOC       0.69      0.72      0.71      2231\n",
            "      B-MISC       0.70      0.62      0.66      1049\n",
            "       B-ORG       0.78      0.64      0.70      1430\n",
            "       B-PER       0.76      0.64      0.70      1973\n",
            "       I-LOC       0.68      0.69      0.69       264\n",
            "      I-MISC       0.74      0.41      0.52       367\n",
            "       I-ORG       0.64      0.50      0.56       794\n",
            "       I-PER       0.70      0.61      0.65      1358\n",
            "           O       0.95      0.97      0.96     49527\n",
            "\n",
            "    accuracy                           0.92     58993\n",
            "   macro avg       0.74      0.64      0.68     58993\n",
            "weighted avg       0.91      0.92      0.91     58993\n",
            "\n"
          ]
        }
      ]
    },
    {
      "cell_type": "code",
      "source": [
        "num = 0\n",
        "\n",
        "print('test_sentece :',sentences_validation[num])\n",
        "print('test_tags :',tags_validation[0])\n",
        "# print(len(encoded_tags_val[num]))\n",
        "toks = []\n",
        "for j,i in enumerate(np.array(tf.math.top_k(p[num][0:len(encoded_tags_val[num])],k=1)[1])):\n",
        "    # print(j,i)\n",
        "    toks.append(enc_2tags[int(i)])\n",
        "print('pred_tags :',' '.join(toks))"
      ],
      "metadata": {
        "id": "_Z5-bSZ6ZOia",
        "colab": {
          "base_uri": "https://localhost:8080/"
        },
        "outputId": "472649be-f50a-4316-ec68-fdd6b28951e9"
      },
      "execution_count": 16,
      "outputs": [
        {
          "output_type": "stream",
          "name": "stdout",
          "text": [
            "test_sentece : CRICKET - LEICESTERSHIRE TAKE OVER AT TOP AFTER INNINGS VICTORY .\n",
            "test_tags : O O B-ORG O O O O O O O O\n",
            "pred_tags : O O B-ORG O O O O O O O O\n"
          ]
        }
      ]
    },
    {
      "cell_type": "code",
      "source": [],
      "metadata": {
        "id": "Rk_LT3D-Xbaz"
      },
      "execution_count": 16,
      "outputs": []
    }
  ]
}